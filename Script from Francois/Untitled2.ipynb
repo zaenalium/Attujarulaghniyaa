{
 "cells": [
  {
   "cell_type": "code",
   "execution_count": 1,
   "metadata": {},
   "outputs": [],
   "source": [
    "import requests\n",
    "from requests.auth import HTTPBasicAuth\n",
    "\n"
   ]
  },
  {
   "cell_type": "code",
   "execution_count": 2,
   "metadata": {},
   "outputs": [
    {
     "name": "stdout",
     "output_type": "stream",
     "text": [
      "last10 data: [{'Time': '2020-07-30-23:20:07', 'Timestamp': 1596151207.0, 'ask': 11157.45, 'asksize': 7.777, 'bid': 11157.44, 'bidsize': 0.06, 'indexprice': 11161.984, 'lastprice': 11158.1, 'lastpriceqty': 0.011, 'premium': -3.884, 'premium_%': -0.035}, {'Time': '2020-07-30-23:20:05', 'Timestamp': 1596151205.0, 'ask': 11160.19, 'asksize': 0.38, 'bid': 11160.18, 'bidsize': 0.409, 'indexprice': 11161.371, 'lastprice': 11160.18, 'lastpriceqty': 0.034, 'premium': -1.191, 'premium_%': -0.011}, {'Time': '2020-07-30-23:20:04', 'Timestamp': 1596151204.0, 'ask': 11158.0, 'asksize': 0.209, 'bid': 11157.99, 'bidsize': 1.769, 'indexprice': 11158.037, 'lastprice': 11157.99, 'lastpriceqty': 0.262, 'premium': -0.047, 'premium_%': 0.0}, {'Time': '2020-07-30-23:20:03', 'Timestamp': 1596151203.0, 'ask': 11156.56, 'asksize': 0.003, 'bid': 11156.55, 'bidsize': 9.816, 'indexprice': 11157.767, 'lastprice': 11156.01, 'lastpriceqty': 0.03, 'premium': -1.757, 'premium_%': -0.016}, {'Time': '2020-07-30-23:20:01', 'Timestamp': 1596151201.0, 'ask': 11153.72, 'asksize': 0.26, 'bid': 11153.71, 'bidsize': 3.901, 'indexprice': 11157.32, 'lastprice': 11153.86, 'lastpriceqty': 0.957, 'premium': -3.46, 'premium_%': -0.031}, {'Time': '2020-07-30-23:20:00', 'Timestamp': 1596151200.0, 'ask': 11151.74, 'asksize': 2.394, 'bid': 11151.73, 'bidsize': 1.408, 'indexprice': 11157.277, 'lastprice': 11151.73, 'lastpriceqty': 0.01, 'premium': -5.547, 'premium_%': -0.05}, {'Time': '2020-07-30-23:19:59', 'Timestamp': 1596151199.0, 'ask': 11151.74, 'asksize': 2.274, 'bid': 11151.73, 'bidsize': 1.404, 'indexprice': 11157.113, 'lastprice': 11151.73, 'lastpriceqty': 0.01, 'premium': -5.383, 'premium_%': -0.048}, {'Time': '2020-07-30-23:19:58', 'Timestamp': 1596151198.0, 'ask': 11151.74, 'asksize': 2.593, 'bid': 11151.73, 'bidsize': 1.91, 'indexprice': 11157.113, 'lastprice': 11151.54, 'lastpriceqty': 0.01, 'premium': -5.573, 'premium_%': -0.05}, {'Time': '2020-07-30-23:19:56', 'Timestamp': 1596151196.0, 'ask': 11151.74, 'asksize': 1.077, 'bid': 11151.73, 'bidsize': 1.91, 'indexprice': 11157.113, 'lastprice': 11151.54, 'lastpriceqty': 0.01, 'premium': -5.573, 'premium_%': -0.05}, {'Time': '2020-07-30-23:19:55', 'Timestamp': 1596151195.0, 'ask': 11151.74, 'asksize': 0.842, 'bid': 11151.73, 'bidsize': 5.119, 'indexprice': 11157.113, 'lastprice': 11151.54, 'lastpriceqty': 0.01, 'premium': -5.573, 'premium_%': -0.05}]\n",
      "--------------\n"
     ]
    }
   ],
   "source": [
    "url2 = 'http://jarvisglobal.co:5050/data/exchange=binance&symbol=btcperp&depth=10'\n",
    "data2 = requests.get(url2, auth=HTTPBasicAuth('JarvisUsers', 'Jarvisglobalusers20'))\n",
    "print('last10 data:' , data2.json())\n",
    "print('--------------')"
   ]
  },
  {
   "cell_type": "code",
   "execution_count": null,
   "metadata": {},
   "outputs": [],
   "source": []
  }
 ],
 "metadata": {
  "kernelspec": {
   "display_name": "Python 3",
   "language": "python",
   "name": "python3"
  },
  "language_info": {
   "codemirror_mode": {
    "name": "ipython",
    "version": 3
   },
   "file_extension": ".py",
   "mimetype": "text/x-python",
   "name": "python",
   "nbconvert_exporter": "python",
   "pygments_lexer": "ipython3",
   "version": "3.7.6"
  }
 },
 "nbformat": 4,
 "nbformat_minor": 4
}
