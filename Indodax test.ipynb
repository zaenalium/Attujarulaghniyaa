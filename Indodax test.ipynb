{
 "cells": [
  {
   "cell_type": "code",
   "execution_count": 1,
   "metadata": {},
   "outputs": [],
   "source": [
    "import asyncio\n",
    "import json\n",
    "import websockets\n",
    "import redis\n",
    "import time\n",
    "from time import gmtime, strftime\n",
    "import socket\n",
    "import concurrent.futures"
   ]
  },
  {
   "cell_type": "code",
   "execution_count": 2,
   "metadata": {},
   "outputs": [],
   "source": [
    "class indodax():\n",
    "    def __init__(self):\n",
    "        self.websocket = websockets.connect('wss://kline.indodax.com/ws/')\n",
    "    def subscr(self, symbol):\n",
    "        msg = {\"sub\":symbol,\n",
    "               \"id\" : \"1\"\n",
    "              }\n",
    "        return json.dumps(msg)\n",
    "    \n",
    "    async def pubStream(self, msg):\n",
    "        async with self.websocket as websocket:\n",
    "            await websocket.send(msg)\n",
    "            try:\n",
    "                while websocket.open :\n",
    "                    response = await websocket.recv() # string\n",
    "                    jload = json.loads(response) # dict\n",
    "                    print(jload)\n",
    "                    \n",
    "                print('websocket close')\n",
    "            except Exception as e:\n",
    "                print(str(e), symbol, strftime(\"%Y-%m-%d_%H:%M:%S\", gmtime(time.time())))\n"
   ]
  },
  {
   "cell_type": "code",
   "execution_count": 3,
   "metadata": {},
   "outputs": [
    {
     "ename": "RuntimeError",
     "evalue": "This event loop is already running",
     "output_type": "error",
     "traceback": [
      "\u001b[1;31m---------------------------------------------------------------------------\u001b[0m",
      "\u001b[1;31mRuntimeError\u001b[0m                              Traceback (most recent call last)",
      "\u001b[1;32m<ipython-input-3-5a6e09e19cc9>\u001b[0m in \u001b[0;36m<module>\u001b[1;34m\u001b[0m\n\u001b[0;32m      8\u001b[0m     \u001b[0mloop\u001b[0m \u001b[1;33m=\u001b[0m \u001b[0masyncio\u001b[0m\u001b[1;33m.\u001b[0m\u001b[0mget_event_loop\u001b[0m\u001b[1;33m(\u001b[0m\u001b[1;33m)\u001b[0m\u001b[1;33m\u001b[0m\u001b[1;33m\u001b[0m\u001b[0m\n\u001b[0;32m      9\u001b[0m     \u001b[0mloop\u001b[0m\u001b[1;33m.\u001b[0m\u001b[0mcreate_task\u001b[0m\u001b[1;33m(\u001b[0m\u001b[0mindodax\u001b[0m\u001b[1;33m(\u001b[0m\u001b[1;33m)\u001b[0m\u001b[1;33m.\u001b[0m\u001b[0mpubStream\u001b[0m\u001b[1;33m(\u001b[0m\u001b[0mmsgFeedCf\u001b[0m\u001b[1;33m)\u001b[0m\u001b[1;33m)\u001b[0m\u001b[1;33m\u001b[0m\u001b[1;33m\u001b[0m\u001b[0m\n\u001b[1;32m---> 10\u001b[1;33m     \u001b[0mloop\u001b[0m\u001b[1;33m.\u001b[0m\u001b[0mrun_forever\u001b[0m\u001b[1;33m(\u001b[0m\u001b[1;33m)\u001b[0m\u001b[1;33m\u001b[0m\u001b[1;33m\u001b[0m\u001b[0m\n\u001b[0m\u001b[0;32m     11\u001b[0m \u001b[1;32mexcept\u001b[0m \u001b[0mKeyboardInterrupt\u001b[0m \u001b[1;33m:\u001b[0m\u001b[1;33m\u001b[0m\u001b[1;33m\u001b[0m\u001b[0m\n\u001b[0;32m     12\u001b[0m     \u001b[0mloop\u001b[0m\u001b[1;33m.\u001b[0m\u001b[0mstop\u001b[0m\u001b[1;33m(\u001b[0m\u001b[1;33m)\u001b[0m\u001b[1;33m\u001b[0m\u001b[1;33m\u001b[0m\u001b[0m\n",
      "\u001b[1;32m~\\Anaconda3\\lib\\asyncio\\base_events.py\u001b[0m in \u001b[0;36mrun_forever\u001b[1;34m(self)\u001b[0m\n\u001b[0;32m    524\u001b[0m         \u001b[0mself\u001b[0m\u001b[1;33m.\u001b[0m\u001b[0m_check_closed\u001b[0m\u001b[1;33m(\u001b[0m\u001b[1;33m)\u001b[0m\u001b[1;33m\u001b[0m\u001b[1;33m\u001b[0m\u001b[0m\n\u001b[0;32m    525\u001b[0m         \u001b[1;32mif\u001b[0m \u001b[0mself\u001b[0m\u001b[1;33m.\u001b[0m\u001b[0mis_running\u001b[0m\u001b[1;33m(\u001b[0m\u001b[1;33m)\u001b[0m\u001b[1;33m:\u001b[0m\u001b[1;33m\u001b[0m\u001b[1;33m\u001b[0m\u001b[0m\n\u001b[1;32m--> 526\u001b[1;33m             \u001b[1;32mraise\u001b[0m \u001b[0mRuntimeError\u001b[0m\u001b[1;33m(\u001b[0m\u001b[1;34m'This event loop is already running'\u001b[0m\u001b[1;33m)\u001b[0m\u001b[1;33m\u001b[0m\u001b[1;33m\u001b[0m\u001b[0m\n\u001b[0m\u001b[0;32m    527\u001b[0m         \u001b[1;32mif\u001b[0m \u001b[0mevents\u001b[0m\u001b[1;33m.\u001b[0m\u001b[0m_get_running_loop\u001b[0m\u001b[1;33m(\u001b[0m\u001b[1;33m)\u001b[0m \u001b[1;32mis\u001b[0m \u001b[1;32mnot\u001b[0m \u001b[1;32mNone\u001b[0m\u001b[1;33m:\u001b[0m\u001b[1;33m\u001b[0m\u001b[1;33m\u001b[0m\u001b[0m\n\u001b[0;32m    528\u001b[0m             raise RuntimeError(\n",
      "\u001b[1;31mRuntimeError\u001b[0m: This event loop is already running"
     ]
    },
    {
     "name": "stdout",
     "output_type": "stream",
     "text": [
      "{'id': '1', 'status': 'ok', 'subbed': 'ltcidr.kline.1m', 'ts': 1604390080}\n",
      "{'ch': 'ltcidr.kline.1m', 'ts': 1603351107, 'tick': {'pair': 'ltcidr', 'type': '1m', 'o': 777000, 'h': 777000, 'l': 777000, 'c': 777000, 'v': 0.03180051, 't': 1604390040}}\n",
      "{'ch': 'ltcidr.kline.1m', 'ts': 1603351107, 'tick': {'pair': 'ltcidr', 'type': '1m', 'o': 777000, 'h': 777000, 'l': 777000, 'c': 777000, 'v': 0.02566409, 't': 1604390100}}\n",
      "{'ch': 'ltcidr.kline.1m', 'ts': 1603351107, 'tick': {'pair': 'ltcidr', 'type': '1m', 'o': 777000, 'h': 777000, 'l': 777000, 'c': 777000, 'v': 0.22466151, 't': 1604390160}}\n",
      "{'ch': 'ltcidr.kline.1m', 'ts': 1603351107, 'tick': {'pair': 'ltcidr', 'type': '1m', 'o': 777000, 'h': 777000, 'l': 777000, 'c': 777000, 'v': 0.2503256, 't': 1604390160}}\n",
      "{'ch': 'ltcidr.kline.1m', 'ts': 1603351107, 'tick': {'pair': 'ltcidr', 'type': '1m', 'o': 777000, 'h': 777000, 'l': 777000, 'c': 777000, 'v': 0.2527812, 't': 1604390220}}\n",
      "{'ch': 'ltcidr.kline.1m', 'ts': 1603351107, 'tick': {'pair': 'ltcidr', 'type': '1m', 'o': 777000, 'h': 777000, 'l': 777000, 'c': 777000, 'v': 0.12037837, 't': 1604390400}}\n",
      "{'ch': 'ltcidr.kline.1m', 'ts': 1603351107, 'tick': {'pair': 'ltcidr', 'type': '1m', 'o': 777000, 'h': 776000, 'l': 776000, 'c': 776000, 'v': 2.01, 't': 1604390520}}\n",
      "{'ch': 'ltcidr.kline.1m', 'ts': 1603351107, 'tick': {'pair': 'ltcidr', 'type': '1m', 'o': 777000, 'h': 776000, 'l': 776000, 'c': 776000, 'v': 3.23074871, 't': 1604390520}}\n",
      "{'ch': 'ltcidr.kline.1m', 'ts': 1603351107, 'tick': {'pair': 'ltcidr', 'type': '1m', 'o': 776000, 'h': 774000, 'l': 774000, 'c': 774000, 'v': 0.06247416, 't': 1604390760}}\n",
      "{'ch': 'ltcidr.kline.1m', 'ts': 1603351107, 'tick': {'pair': 'ltcidr', 'type': '1m', 'o': 774000, 'h': 773000, 'l': 773000, 'c': 773000, 'v': 0.04974384, 't': 1604390880}}\n",
      "{'ch': 'ltcidr.kline.1m', 'ts': 1603351107, 'tick': {'pair': 'ltcidr', 'type': '1m', 'o': 773000, 'h': 779000, 'l': 773000, 'c': 779000, 'v': 0.38603523, 't': 1604391240}}\n",
      "{'ch': 'ltcidr.kline.1m', 'ts': 1603351107, 'tick': {'pair': 'ltcidr', 'type': '1m', 'o': 773000, 'h': 779000, 'l': 773000, 'c': 779000, 'v': 0.38603523, 't': 1604391240}}\n",
      "{'ch': 'ltcidr.kline.1m', 'ts': 1603351107, 'tick': {'pair': 'ltcidr', 'type': '1m', 'o': 773000, 'h': 779000, 'l': 773000, 'c': 779000, 'v': 0.38603523, 't': 1604391240}}\n",
      "{'ch': 'ltcidr.kline.1m', 'ts': 1603351107, 'tick': {'pair': 'ltcidr', 'type': '1m', 'o': 773000, 'h': 779000, 'l': 773000, 'c': 779000, 'v': 0.38603523, 't': 1604391240}}\n",
      "{'ch': 'ltcidr.kline.1m', 'ts': 1603351107, 'tick': {'pair': 'ltcidr', 'type': '1m', 'o': 779000, 'h': 779000, 'l': 779000, 'c': 779000, 'v': 0.06399358, 't': 1604391540}}\n",
      "{'ch': 'ltcidr.kline.1m', 'ts': 1603351107, 'tick': {'pair': 'ltcidr', 'type': '1m', 'o': 779000, 'h': 778000, 'l': 778000, 'c': 778000, 'v': 0.24540874, 't': 1604391720}}\n",
      "{'ch': 'ltcidr.kline.1m', 'ts': 1603351107, 'tick': {'pair': 'ltcidr', 'type': '1m', 'o': 778000, 'h': 777000, 'l': 777000, 'c': 777000, 'v': 0.25483397, 't': 1604392380}}\n",
      "{'ch': 'ltcidr.kline.1m', 'ts': 1603351107, 'tick': {'pair': 'ltcidr', 'type': '1m', 'o': 778000, 'h': 777000, 'l': 775000, 'c': 775000, 'v': 0.2680788, 't': 1604392380}}\n",
      "{'ch': 'ltcidr.kline.1m', 'ts': 1603351107, 'tick': {'pair': 'ltcidr', 'type': '1m', 'o': 775000, 'h': 776000, 'l': 776000, 'c': 776000, 'v': 1.15632692, 't': 1604392560}}\n",
      "{'ch': 'ltcidr.kline.1m', 'ts': 1603351107, 'tick': {'pair': 'ltcidr', 'type': '1m', 'o': 776000, 'h': 777000, 'l': 777000, 'c': 777000, 'v': 0.01508494, 't': 1604392740}}\n",
      "{'ch': 'ltcidr.kline.1m', 'ts': 1603351107, 'tick': {'pair': 'ltcidr', 'type': '1m', 'o': 777000, 'h': 775000, 'l': 775000, 'c': 775000, 'v': 0.5, 't': 1604392980}}\n",
      "{'ch': 'ltcidr.kline.1m', 'ts': 1603351107, 'tick': {'pair': 'ltcidr', 'type': '1m', 'o': 775000, 'h': 775000, 'l': 775000, 'c': 775000, 'v': 4, 't': 1604393100}}\n"
     ]
    }
   ],
   "source": [
    "symbol_indodax = \"ltcidr.kline.1m\" # to get orderbook\n",
    "idz = \"zaenalium\" # list of products the channels subscribe \n",
    "# \"pi_xbtusd\" and \"pi_ethusd\" are perpetual BTC and ETH\n",
    "# \"fi_xbtusd_200925\" and \"fi_ethusd_200925\" are futures 25 september BTC and ETH \n",
    "# you can choose only one, or different, put off the list the one you don't want\n",
    "msgFeedCf = indodax().subscr(symbol_indodax)\n",
    "try:\n",
    "    loop = asyncio.get_event_loop()\n",
    "    loop.create_task(indodax().pubStream(msgFeedCf))\n",
    "    loop.run_forever()\n",
    "except KeyboardInterrupt :\n",
    "    loop.stop()"
   ]
  },
  {
   "cell_type": "code",
   "execution_count": null,
   "metadata": {},
   "outputs": [],
   "source": [
    "200575000"
   ]
  }
 ],
 "metadata": {
  "kernelspec": {
   "display_name": "Python 3",
   "language": "python",
   "name": "python3"
  },
  "language_info": {
   "codemirror_mode": {
    "name": "ipython",
    "version": 3
   },
   "file_extension": ".py",
   "mimetype": "text/x-python",
   "name": "python",
   "nbconvert_exporter": "python",
   "pygments_lexer": "ipython3",
   "version": "3.7.3"
  }
 },
 "nbformat": 4,
 "nbformat_minor": 2
}
